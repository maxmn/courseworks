{
  "nbformat": 4,
  "nbformat_minor": 5,
  "metadata": {
    "kernelspec": {
      "display_name": "Python 3",
      "language": "python",
      "name": "python3"
    },
    "language_info": {
      "codemirror_mode": {
        "name": "ipython",
        "version": 3
      },
      "file_extension": ".py",
      "mimetype": "text/x-python",
      "name": "python",
      "nbconvert_exporter": "python",
      "pygments_lexer": "ipython3",
      "version": "3.8.3"
    },
    "colab": {
      "name": "Lab Session2.ipynb",
      "provenance": [],
      "include_colab_link": true
    }
  },
  "cells": [
    {
      "cell_type": "markdown",
      "metadata": {
        "id": "view-in-github",
        "colab_type": "text"
      },
      "source": [
        "<a href=\"https://colab.research.google.com/github/manuelnut/10725644-Session2/blob/master/Lab%20Session2.ipynb\" target=\"_parent\"><img src=\"https://colab.research.google.com/assets/colab-badge.svg\" alt=\"Open In Colab\"/></a>"
      ]
    },
    {
      "cell_type": "markdown",
      "metadata": {
        "id": "arranged-intermediate"
      },
      "source": [
        "# CSCD 319 - COMPUTER VISION\n",
        "\n",
        "## LAB SESSION 2: \n",
        "### TOPIC:    Introduction to Convolutional Neural Networks (CNN) and MobileNet using Keras with Tensorflow."
      ],
      "id": "arranged-intermediate"
    },
    {
      "cell_type": "markdown",
      "metadata": {
        "id": "annual-speaker"
      },
      "source": [
        "## Convolutional Neural Network"
      ],
      "id": "annual-speaker"
    },
    {
      "cell_type": "code",
      "metadata": {
        "id": "certain-dover"
      },
      "source": [
        "# Import the necessary libraries that will be needed to carry out the tasks\n",
        "import numpy as np\n",
        "import tensorflow as tf\n",
        "from tensorflow import keras\n",
        "from tensorflow.keras.models import Sequential\n",
        "from tensorflow.keras.layers import Activation, Dense, Flatten, BatchNormalization, Conv2D, MaxPool2D\n",
        "from tensorflow.keras.optimizers import Adam\n",
        "from tensorflow.keras.metrics import categorical_crossentropy\n",
        "from tensorflow.keras.preprocessing.image import ImageDataGenerator\n",
        "from sklearn.metrics import confusion_matrix\n",
        "import itertools\n",
        "import os\n",
        "import shutil\n",
        "import random\n",
        "import glob\n",
        "import matplotlib.pyplot as plt\n",
        "import warnings\n",
        "warnings.simplefilter(action='ignore', category=FutureWarning)\n",
        "%matplotlib inline"
      ],
      "id": "certain-dover",
      "execution_count": 13,
      "outputs": []
    },
    {
      "cell_type": "markdown",
      "metadata": {
        "id": "complicated-milan"
      },
      "source": [
        "### Data Preparation\n",
        "\n",
        "The images included in the data directory are a random subset of the full cat and dog data set from the following Kaggle competition: https://www.kaggle.com/c/dogs-vs-cats/data \n",
        "\n",
        "The dataset contains 25,000 images of dogs and cats.\n",
        "\n",
        "After downloading the dataset, you will get a zip file that contains a sampleSubmission file, a test.zip file and a train.zip file. You may delete the sampleSubmission file and the test.zip file as they will be irrelevant for our session. Ensure that your Notebook and the data files are not in the same directory as commiting to GitHub will send the images to your repository as well, which is not necessary."
      ],
      "id": "complicated-milan"
    },
    {
      "cell_type": "code",
      "metadata": {
        "id": "federal-tomato"
      },
      "source": [
        "# Mount google drive and setup base working dir\n",
        "from google.colab import drive\n",
        "drive.mount('/content/drive', force_remount=True)\n",
        "os.chdir('/content/drive/MyDrive/computer-vision-session-2')"
      ],
      "id": "federal-tomato",
      "execution_count": null,
      "outputs": []
    },
    {
      "cell_type": "code",
      "metadata": {
        "id": "rising-olive"
      },
      "source": [
        "# Organize data into train, valid, test dirs\n",
        "\n",
        "# NOTE Changed train, valid and test dirs to train-set, valid-set and test-set dirs\n",
        "# respectively to avoid name clash.\n",
        "\n",
        "os.chdir('data/dogs-vs-cats')\n",
        "\n",
        "if os.path.isdir('train-set/dog') is False:\n",
        "    os.makedirs('train-set/dog')\n",
        "    os.makedirs('train-set/cat')\n",
        "    os.makedirs('valid-set/dog')\n",
        "    os.makedirs('valid-set/cat')\n",
        "    os.makedirs('test-set/dog')\n",
        "    os.makedirs('test-set/cat')\n",
        "\n",
        "    for i in random.sample(glob.glob('train/cat*'), 500):\n",
        "        shutil.move(i, 'train-set/cat')\n",
        "    for i in random.sample(glob.glob('train/dog*'), 500):\n",
        "        shutil.move(i, 'train-set/dog')\n",
        "    for i in random.sample(glob.glob('train/cat*'), 100):\n",
        "        shutil.move(i, 'valid-set/cat')\n",
        "    for i in random.sample(glob.glob('train/dog*'), 100):\n",
        "        shutil.move(i, 'valid-set/dog')\n",
        "    for i in random.sample(glob.glob('train/cat*'), 50):\n",
        "        shutil.move(i, 'test-set/cat')\n",
        "    for i in random.sample(glob.glob('train/dog*'), 50):\n",
        "        shutil.move(i, 'test-set/dog')\n",
        "\n",
        "os.chdir('../../')"
      ],
      "id": "rising-olive",
      "execution_count": 15,
      "outputs": []
    },
    {
      "cell_type": "code",
      "metadata": {
        "id": "baking-sherman"
      },
      "source": [
        "# Setting up paths for data files.\n",
        "\n",
        "train_path = 'data/dogs-vs-cats/train-set'\n",
        "valid_path = 'data/dogs-vs-cats/valid-set'\n",
        "test_path = 'data/dogs-vs-cats/test-set'"
      ],
      "id": "baking-sherman",
      "execution_count": 14,
      "outputs": []
    },
    {
      "cell_type": "code",
      "metadata": {
        "id": "impressed-trademark"
      },
      "source": [
        "# We need to put the data in a format that the model understands.\n",
        "# In keras, we do so with the ImageGenerator() method.\n",
        "# This will create batches of data from the directory where the datasets resides\n",
        "# And these batches of data will be passed to the sequential model\n",
        "\n",
        "train_batches = ImageDataGenerator(preprocessing_function=tf.keras.applications.vgg16.preprocess_input) \\\n",
        "    .flow_from_directory(directory=train_path, target_size=(224,224), classes=['cat','dog'], batch_size=10)\n",
        "\n",
        "valid_batches = ImageDataGenerator(preprocessing_function=tf.keras.applications.vgg16.preprocess_input) \\\n",
        "    .flow_from_directory(directory=valid_path, target_size=(224,224), classes=['cat','dog'], batch_size=10)\n",
        "\n",
        "test_batches = ImageDataGenerator(preprocessing_function=tf.keras.applications.vgg16.preprocess_input) \\\n",
        "    .flow_from_directory(directory=test_path, target_size=(224,224), classes=['cat','dog'], batch_size=10, shuffle=False)"
      ],
      "id": "impressed-trademark",
      "execution_count": null,
      "outputs": []
    },
    {
      "cell_type": "code",
      "metadata": {
        "id": "characteristic-subcommittee"
      },
      "source": [
        "# Verifying the number of classes and images for our train, valid and test sets\n",
        "assert train_batches.n == 1000\n",
        "assert valid_batches.n == 200\n",
        "assert test_batches.n == 100\n",
        "assert train_batches.num_classes == valid_batches.num_classes == test_batches.num_classes == 2"
      ],
      "id": "characteristic-subcommittee",
      "execution_count": 16,
      "outputs": []
    },
    {
      "cell_type": "code",
      "metadata": {
        "id": "adverse-netherlands"
      },
      "source": [
        "# Checking the indices of each label\n",
        "test_batches.class_indices"
      ],
      "id": "adverse-netherlands",
      "execution_count": null,
      "outputs": []
    },
    {
      "cell_type": "code",
      "metadata": {
        "id": "bearing-amendment"
      },
      "source": [
        "# Overview of images from a particular batch\n",
        "imgs, labels = next(train_batches)"
      ],
      "id": "bearing-amendment",
      "execution_count": 19,
      "outputs": []
    },
    {
      "cell_type": "code",
      "metadata": {
        "id": "threatened-clock"
      },
      "source": [
        "# This function will plot images in the form of a grid with 1 row and 10 columns where images are place\n",
        "# Function taken directly from Tensorflow website\n",
        "def plotImages(images_arr):\n",
        "    fig, axes = plt.subplots(1, 10, figsize=(20,20))\n",
        "    axes = axes.flatten()\n",
        "    for img, ax in zip( images_arr, axes):\n",
        "        ax.imshow(img)\n",
        "        ax.axis('off')\n",
        "    plt.tight_layout()\n",
        "    plt.show()"
      ],
      "id": "threatened-clock",
      "execution_count": 20,
      "outputs": []
    },
    {
      "cell_type": "code",
      "metadata": {
        "id": "average-magnitude"
      },
      "source": [
        "# Plotting images from the 'imgs' batches along their labels\n",
        "plotImages(imgs)\n",
        "print(labels)"
      ],
      "id": "average-magnitude",
      "execution_count": null,
      "outputs": []
    },
    {
      "cell_type": "markdown",
      "metadata": {
        "id": "monetary-mongolia"
      },
      "source": [
        "### Build and train a CNN"
      ],
      "id": "monetary-mongolia"
    },
    {
      "cell_type": "code",
      "metadata": {
        "id": "weekly-capture"
      },
      "source": [
        "# Using the keras sequential model to build our model\n",
        "\n",
        "model = Sequential([\n",
        "    tf.keras.applications.mobilenet.MobileNet(input_shape=(224,224,3), include_top=False),\n",
        "    Conv2D(filters=32, kernel_size=(3, 3), activation='relu', padding='same'),\n",
        "    MaxPool2D(pool_size=(2, 2), strides=2),\n",
        "    Conv2D(filters=64, kernel_size=(3, 3), activation='relu', padding='same'),\n",
        "    MaxPool2D(pool_size=(2, 2), strides=2),\n",
        "    Flatten(),\n",
        "    Dense(units=2, activation='softmax'),\n",
        "])"
      ],
      "id": "weekly-capture",
      "execution_count": 24,
      "outputs": []
    },
    {
      "cell_type": "code",
      "metadata": {
        "id": "early-proportion"
      },
      "source": [
        "# Check out a summary of our model\n",
        "model.summary()"
      ],
      "id": "early-proportion",
      "execution_count": null,
      "outputs": []
    },
    {
      "cell_type": "code",
      "metadata": {
        "id": "ancient-nurse"
      },
      "source": [
        "# Preparing the model for training\n",
        "model.compile(optimizer=Adam(), loss='categorical_crossentropy', metrics=['accuracy'])"
      ],
      "id": "ancient-nurse",
      "execution_count": 26,
      "outputs": []
    },
    {
      "cell_type": "code",
      "metadata": {
        "id": "material-precipitation"
      },
      "source": [
        "# We can now train our model\n",
        "model.fit(x=train_batches, validation_data=valid_batches, epochs=3, verbose=2)"
      ],
      "id": "material-precipitation",
      "execution_count": null,
      "outputs": []
    },
    {
      "cell_type": "markdown",
      "metadata": {
        "id": "amended-aerospace"
      },
      "source": [
        "### Predict"
      ],
      "id": "amended-aerospace"
    },
    {
      "cell_type": "code",
      "metadata": {
        "id": "enabling-graph"
      },
      "source": [
        "# Get a batch of test data from the test images and then plot that batch\n",
        "test_imgs, test_labels = next(test_batches)\n",
        "plotImages(test_imgs)\n",
        "print(test_labels)"
      ],
      "id": "enabling-graph",
      "execution_count": null,
      "outputs": []
    },
    {
      "cell_type": "code",
      "metadata": {
        "id": "exclusive-marathon"
      },
      "source": [
        "# View the unshuffled test set\n",
        "test_batches.classes"
      ],
      "id": "exclusive-marathon",
      "execution_count": null,
      "outputs": []
    },
    {
      "cell_type": "code",
      "metadata": {
        "id": "hydraulic-culture"
      },
      "source": [
        "# Making a prediction on the test set\n",
        "predictions = model.predict(x=test_batches, verbose=0)"
      ],
      "id": "hydraulic-culture",
      "execution_count": 30,
      "outputs": []
    },
    {
      "cell_type": "code",
      "metadata": {
        "id": "monetary-navigator"
      },
      "source": [
        "# Rounding the probabilities to zero and one\n",
        "np.round(predictions)"
      ],
      "id": "monetary-navigator",
      "execution_count": null,
      "outputs": []
    },
    {
      "cell_type": "code",
      "metadata": {
        "id": "grave-arctic"
      },
      "source": [
        "# Creating a confusion matrix to view the performance of the model on the test set\n",
        "cm = confusion_matrix(y_true=test_batches.classes, y_pred=np.argmax(predictions, axis=1))"
      ],
      "id": "grave-arctic",
      "execution_count": 32,
      "outputs": []
    },
    {
      "cell_type": "code",
      "metadata": {
        "id": "purple-discipline"
      },
      "source": [
        "# Function to plot a confusion Matrix\n",
        "# Directly copied from the Scikit Learn website\n",
        "def plot_confusion_matrix(cm, classes,\n",
        "                         normalize=False,\n",
        "                         title='Confusion matrix',\n",
        "                         cmap=plt.cm.Blues):\n",
        "    \"\"\"\n",
        "    This function prints and plots the confusion matrix.\n",
        "    Normalization can be applied by setting 'normalize=True'.\n",
        "    \"\"\"\n",
        "    plt.imshow(cm, interpolation='nearest', cmap=cmap)\n",
        "    plt.title(title)\n",
        "    plt.colorbar()\n",
        "    tick_marks = np.arange(len(classes))\n",
        "    plt.xticks(tick_marks, classes, rotation=45)\n",
        "    plt.yticks(tick_marks, classes)\n",
        "    \n",
        "    if normalize:\n",
        "        cm = cm.astype('float') / cm.sum(axis=1)[:, np.newaxis]\n",
        "        print(\"Normalized confusion matrix\")\n",
        "    else:\n",
        "        print('Confusion matrix, without normalization')\n",
        "        \n",
        "    print(cm)\n",
        "    \n",
        "    thresh = cm.max() / 2.\n",
        "    for i, j in itertools.product(range(cm.shape[0]), range(cm.shape[1])):\n",
        "        plt.text(j, i, cm[i, j],\n",
        "                horizontalalignment=\"center\",\n",
        "                color=\"white\" if cm[i, j] > thresh else \"black\")\n",
        "        \n",
        "    plt.tight_layout()\n",
        "    plt.ylabel('True label')\n",
        "    plt.xlabel('Predicted label')"
      ],
      "id": "purple-discipline",
      "execution_count": 33,
      "outputs": []
    },
    {
      "cell_type": "code",
      "metadata": {
        "id": "thousand-patrick"
      },
      "source": [
        "# Checking the indices of each label\n",
        "test_batches.class_indices"
      ],
      "id": "thousand-patrick",
      "execution_count": null,
      "outputs": []
    },
    {
      "cell_type": "code",
      "metadata": {
        "id": "apparent-trace",
        "outputId": "ffd325f5-df1d-4dbe-fd80-410f0735540f",
        "colab": {
          "base_uri": "https://localhost:8080/",
          "height": 362
        }
      },
      "source": [
        "# Defining the labels of the confusion Matrix and plotting it\n",
        "cm_plot_labels = ['cat', 'dog']\n",
        "plot_confusion_matrix(cm=cm, classes=cm_plot_labels, title='Confusion Matrix')"
      ],
      "id": "apparent-trace",
      "execution_count": 35,
      "outputs": [
        {
          "output_type": "stream",
          "text": [
            "Confusion matrix, without normalization\n",
            "[[37 13]\n",
            " [ 1 49]]\n"
          ],
          "name": "stdout"
        },
        {
          "output_type": "display_data",
          "data": {
            "image/png": "[encoded data removed]",
            "text/plain": [
              "<Figure size 432x288 with 2 Axes>"
            ]
          },
          "metadata": {
            "tags": [],
            "needs_background": "light"
          }
        }
      ]
    },
    {
      "cell_type": "markdown",
      "metadata": {
        "id": "executed-hacker"
      },
      "source": [
        "### ASSIGNMENT 1 - 3 marks\n",
        "\n",
        "#### Improving model performance.\n",
        "\n",
        "Tune the parameters of the Convolutional Neural Network above to achieve a better performance comparative to what was achieved in class.\\\n",
        "The sum of the True Positive value and that of the True Negative value should be greater than or equal to 70% of the total number of files in the test dataset.\n",
        "\n",
        "You may achieve this through the following ways.\n",
        "1. You may include more of the data files when training your model.\n",
        "2. You may try out other types of optimizers.\n",
        "3. You may change the learning rate.\n",
        "4. You may add more layers to the Sequential model\n",
        "5. Etc.\n",
        "\n",
        "Use the resulting confusion matrix to determine the performance of your tuned model. \n",
        "\n",
        "#### DEADLINE: \n",
        "Sunday, April 2nd, 2021"
      ],
      "id": "executed-hacker"
    },
    {
      "cell_type": "code",
      "metadata": {
        "id": "formal-patient"
      },
      "source": [
        ""
      ],
      "id": "formal-patient",
      "execution_count": null,
      "outputs": []
    },
    {
      "cell_type": "code",
      "metadata": {
        "id": "medical-reach"
      },
      "source": [
        ""
      ],
      "id": "medical-reach",
      "execution_count": null,
      "outputs": []
    },
    {
      "cell_type": "code",
      "metadata": {
        "id": "interested-authorization"
      },
      "source": [
        ""
      ],
      "id": "interested-authorization",
      "execution_count": null,
      "outputs": []
    },
    {
      "cell_type": "markdown",
      "metadata": {
        "id": "aquatic-fellowship"
      },
      "source": [
        "## MobileNet With Keras"
      ],
      "id": "aquatic-fellowship"
    },
    {
      "cell_type": "code",
      "metadata": {
        "id": "sustainable-edition"
      },
      "source": [
        "import numpy as np\n",
        "import tensorflow as tf\n",
        "from tensorflow import keras\n",
        "from tensorflow.keras.layers import Dense, Activation\n",
        "from tensorflow.keras.optimizers import Adam\n",
        "from tensorflow.keras.metrics import categorical_crossentropy\n",
        "from tensorflow.keras.preprocessing.image import ImageDataGenerator\n",
        "from tensorflow.keras.preprocessing import image\n",
        "from tensorflow.keras.models import Model\n",
        "from tensorflow.keras.applications import imagenet_utils\n",
        "from sklearn.metrics import confusion_matrix\n",
        "import itertools\n",
        "import os\n",
        "import shutil\n",
        "import random\n",
        "import matplotlib.pyplot as plt\n",
        "%matplotlib inline"
      ],
      "id": "sustainable-edition",
      "execution_count": 2,
      "outputs": []
    },
    {
      "cell_type": "code",
      "metadata": {
        "id": "removed-japan"
      },
      "source": [
        "# Run this cell to make sure that Tensorflow can identify your GPU if you are using a GPU\n",
        "# physical_devices = tf.config.experimental.list_physical_devices('GPU')\n",
        "# print(\"Num GPUs Available: \", len(physical_devices))\n",
        "# tf.config.experimental.set_memory_growth(physical_devices[0], True)"
      ],
      "id": "removed-japan",
      "execution_count": null,
      "outputs": []
    },
    {
      "cell_type": "code",
      "metadata": {
        "id": "furnished-experiment"
      },
      "source": [
        "# Downloading MobileNet Model\n",
        "mobile = tf.keras.applications.mobilenet.MobileNet()"
      ],
      "id": "furnished-experiment",
      "execution_count": null,
      "outputs": []
    },
    {
      "cell_type": "code",
      "metadata": {
        "id": "digital-wilderness"
      },
      "source": [
        "# Building a function to preprocess the Images with MobileNet Preprocessing function\n",
        "def prepare_image(file):\n",
        "    img_path = 'data/MobileNet-samples/'\n",
        "    img = image.load_img(img_path + file, target_size=(224, 224))\n",
        "    img_array = image.img_to_array(img)\n",
        "    img_array_expanded_dims = np.expand_dims(img_array, axis=0)\n",
        "    return tf.keras.applications.mobilenet.preprocess_input(img_array_expanded_dims)"
      ],
      "id": "digital-wilderness",
      "execution_count": 4,
      "outputs": []
    },
    {
      "cell_type": "code",
      "metadata": {
        "id": "pressing-builder"
      },
      "source": [
        "# View the first image in the data set\n",
        "from IPython.display import Image\n",
        "Image(filename='data/MobileNet-samples/1.jpg', width=300, height=200)"
      ],
      "id": "pressing-builder",
      "execution_count": null,
      "outputs": []
    },
    {
      "cell_type": "code",
      "metadata": {
        "id": "freelance-button"
      },
      "source": [
        "# Preprocess the image and display the possible predictions for the image (mostly the top 5 predictions)\n",
        "preprocessed_image = prepare_image('1.jpg')\n",
        "predictions = mobile.predict(preprocessed_image)\n",
        "results = imagenet_utils.decode_predictions(predictions)  #Top five predictions from the 1000 possible ImageNet classes\n",
        "results"
      ],
      "id": "freelance-button",
      "execution_count": null,
      "outputs": []
    },
    {
      "cell_type": "code",
      "metadata": {
        "id": "designing-oregon"
      },
      "source": [
        "# Viewing the second image in the data set\n",
        "Image(filename='data/MobileNet-samples/2.jpg', width=300, height=200)"
      ],
      "id": "designing-oregon",
      "execution_count": null,
      "outputs": []
    },
    {
      "cell_type": "code",
      "metadata": {
        "id": "cutting-invalid"
      },
      "source": [
        "# Preprocess the image and display the possible predictions for the image (mostly the top 5 predictions)\n",
        "preprocessed_image = prepare_image('2.jpg')\n",
        "predictions = mobile.predict(preprocessed_image)\n",
        "results = imagenet_utils.decode_predictions(predictions)\n",
        "results"
      ],
      "id": "cutting-invalid",
      "execution_count": null,
      "outputs": []
    },
    {
      "cell_type": "markdown",
      "metadata": {
        "id": "sweet-showcase"
      },
      "source": [
        "### ASSIGNMENT 2 - 2 marks\n",
        "\n",
        "Download two different random images online and do the following:\n",
        "\n",
        "1. View the image in your Notebook.\n",
        "2. Preprocess the image and display the possible predictions for the image (the top 5 predictions) with the MobileNet model."
      ],
      "id": "sweet-showcase"
    },
    {
      "cell_type": "code",
      "metadata": {
        "id": "honey-poker",
        "outputId": "5e9540cf-55c6-48ec-a771-496af1944251",
        "colab": {
          "base_uri": "https://localhost:8080/",
          "height": 217
        }
      },
      "source": [
        "Image(filename='data/MobileNet-samples/download-1.jpg', width=300, height=200)"
      ],
      "id": "honey-poker",
      "execution_count": 36,
      "outputs": [
        {
          "output_type": "execute_result",
          "data": {
            "image/jpeg": "[encoded data removed]",
            "text/plain": [
              "<IPython.core.display.Image object>"
            ]
          },
          "metadata": {
            "tags": [],
            "image/jpeg": {
              "width": 300,
              "height": 200
            }
          },
          "execution_count": 36
        }
      ]
    },
    {
      "cell_type": "code",
      "metadata": {
        "id": "united-classic",
        "outputId": "8fc63874-d1b7-4845-b1c1-eaf640e14fab",
        "colab": {
          "base_uri": "https://localhost:8080/"
        }
      },
      "source": [
        "preprocessed_image = prepare_image('download-1.jpg')\n",
        "predictions = mobile.predict(preprocessed_image)\n",
        "results = imagenet_utils.decode_predictions(predictions)\n",
        "results"
      ],
      "id": "united-classic",
      "execution_count": 37,
      "outputs": [
        {
          "output_type": "execute_result",
          "data": {
            "text/plain": [
              "[[('n04254680', 'soccer_ball', 0.9999995),\n",
              "  ('n03445777', 'golf_ball', 4.740681e-07),\n",
              "  ('n04118538', 'rugby_ball', 6.0072187e-09),\n",
              "  ('n02799071', 'baseball', 3.0902523e-09),\n",
              "  ('n03793489', 'mouse', 2.4757008e-09)]]"
            ]
          },
          "metadata": {
            "tags": []
          },
          "execution_count": 37
        }
      ]
    },
    {
      "cell_type": "code",
      "metadata": {
        "id": "african-world",
        "outputId": "bc00d345-d1e1-4c2f-8716-48211796c24b",
        "colab": {
          "base_uri": "https://localhost:8080/",
          "height": 217
        }
      },
      "source": [
        "Image(filename='data/MobileNet-samples/download-2.jpg', width=300, height=200)"
      ],
      "id": "african-world",
      "execution_count": 38,
      "outputs": [
        {
          "output_type": "execute_result",
          "data": {
            "image/jpeg": "[encoded data removed]",
            "text/plain": [
              "<IPython.core.display.Image object>"
            ]
          },
          "metadata": {
            "tags": [],
            "image/jpeg": {
              "width": 300,
              "height": 200
            }
          },
          "execution_count": 38
        }
      ]
    },
    {
      "cell_type": "code",
      "metadata": {
        "id": "OmV0cC6LKAvz",
        "outputId": "4a43192b-7fce-4919-feef-f661012f3390",
        "colab": {
          "base_uri": "https://localhost:8080/"
        }
      },
      "source": [
        "preprocessed_image = prepare_image('download-2.jpg')\n",
        "predictions = mobile.predict(preprocessed_image)\n",
        "results = imagenet_utils.decode_predictions(predictions)\n",
        "results"
      ],
      "id": "OmV0cC6LKAvz",
      "execution_count": 39,
      "outputs": [
        {
          "output_type": "execute_result",
          "data": {
            "text/plain": [
              "[[('n02129165', 'lion', 0.9994875),\n",
              "  ('n02487347', 'macaque', 0.0005061267),\n",
              "  ('n02130308', 'cheetah', 1.8059568e-06),\n",
              "  ('n02486261', 'patas', 1.3962022e-06),\n",
              "  ('n02489166', 'proboscis_monkey', 9.697521e-07)]]"
            ]
          },
          "metadata": {
            "tags": []
          },
          "execution_count": 39
        }
      ]
    }
  ]
}