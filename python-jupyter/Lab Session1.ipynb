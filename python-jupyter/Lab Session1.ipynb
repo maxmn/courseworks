{
  "nbformat": 4,
  "nbformat_minor": 5,
  "metadata": {
    "kernelspec": {
      "display_name": "Python 3",
      "language": "python",
      "name": "python3"
    },
    "language_info": {
      "codemirror_mode": {
        "name": "ipython",
        "version": 3
      },
      "file_extension": ".py",
      "mimetype": "text/x-python",
      "name": "python",
      "nbconvert_exporter": "python",
      "pygments_lexer": "ipython3",
      "version": "3.8.3"
    },
    "colab": {
      "name": "Lab Session1.ipynb",
      "provenance": [],
      "collapsed_sections": [],
      "include_colab_link": true
    }
  },
  "cells": [
    {
      "cell_type": "markdown",
      "metadata": {
        "id": "view-in-github",
        "colab_type": "text"
      },
      "source": [
        "<a href=\"https://colab.research.google.com/github/manuelnut/10725644-Session1/blob/master/Lab%20Session1.ipynb\" target=\"_parent\"><img src=\"https://colab.research.google.com/assets/colab-badge.svg\" alt=\"Open In Colab\"/></a>"
      ]
    },
    {
      "cell_type": "markdown",
      "metadata": {
        "id": "published-doctor"
      },
      "source": [
        "# CSCD 319 - COMPUTER VISION\n",
        "\n",
        "## LAB SESSION 1: \n",
        "### TOPIC: OVERVIEW OF PYTHON PROGRAMMING AND THE JUPYTER NOTEBOOK"
      ],
      "id": "published-doctor"
    },
    {
      "cell_type": "markdown",
      "metadata": {
        "id": "fewer-sampling"
      },
      "source": [
        "#### BASICS OF PYTHON PROGRAMMING"
      ],
      "id": "fewer-sampling"
    },
    {
      "cell_type": "code",
      "metadata": {
        "id": "representative-convergence"
      },
      "source": [
        "# FIRST PYTHON CODE\n",
        "\n",
        "print('Hello World')"
      ],
      "id": "representative-convergence",
      "execution_count": null,
      "outputs": []
    },
    {
      "cell_type": "markdown",
      "metadata": {
        "id": "handy-milton"
      },
      "source": [
        "##### PYTHON INDENTATION:\n",
        "\n",
        "Python uses indentation to indicate a block of code. \n",
        "\n",
        "You can take it like curly brackets used in other programming languages to indicate code blocks.\n",
        "\n",
        "Python will give an error if you skip an indentation or the number of indentation spaces in a block differs.\n",
        "\n",
        "The programmer gets to decide the number of spaces to indent the code. But four spaces is the default in Jupyter Notebook \n",
        "\n",
        "\n",
        "    \n"
      ],
      "id": "handy-milton"
    },
    {
      "cell_type": "code",
      "metadata": {
        "id": "enclosed-george"
      },
      "source": [
        "#Example Code\n",
        "# Write a python program to display the even numbers between 20 and 100\n",
        "var1 = 34\n",
        "for number in range(21, 100):\n",
        "    #Check if number is even\n",
        "    global var1 \n",
        "    var2 = 56\n",
        "    if number % 2 == 0:\n",
        "        #Print out even number\n",
        "        print(number, ' is even')                                                  \n",
        "    else:\n",
        "        #Indicate that number is odd\n",
        "        print(str(number) + ' is odd')\n",
        "        "
      ],
      "id": "enclosed-george",
      "execution_count": null,
      "outputs": []
    },
    {
      "cell_type": "markdown",
      "metadata": {
        "id": "breeding-resort"
      },
      "source": [
        "##### VARIABLES IN PYTHON:\n",
        "\n",
        "Containers for storing values. Python has no command for declaring a variable: like \"int a\" in C++ or \"let num\" in JavaScript.\n",
        "\n",
        "You do not need to declare variables with any particular type and they can actually be changed after they have been set.\n",
        "\n",
        "Casting can be used to specify the data type of a variable.\n",
        "\n",
        "Variable names are case-sensitive.\n",
        "\n",
        "You may also unpack a collection of values into a variable.\n",
        "\n",
        "**Global variables are variables that are created outside of functions. They may be used in function scopes but should be referenced as such. I made a video tutorial to help you out. Find it here: https://youtu.be/rZ6POn6Saa4 **\n",
        "\n",
        "Variables can store different data types and some examples of data types in python can be found below\n",
        "\n",
        "Text Type:\tstr\\\n",
        "Numeric Types:\tint, float, complex\\\n",
        "Sequence Types:\tlist, tuple, range\\\n",
        "Mapping Type:\tdict\\\n",
        "Set Types:\tset, frozenset\\\n",
        "Boolean Type:\tbool\\\n",
        "Binary Types:\tbytes, bytearray, memoryview\n",
        "    "
      ],
      "id": "breeding-resort"
    },
    {
      "cell_type": "code",
      "metadata": {
        "id": "failing-garden"
      },
      "source": [
        "# Demonstration of variable declaration and change in type\n",
        "x = 5\n",
        "print(x)"
      ],
      "id": "failing-garden",
      "execution_count": null,
      "outputs": []
    },
    {
      "cell_type": "code",
      "metadata": {
        "id": "answering-valuation"
      },
      "source": [
        "print(type(x))"
      ],
      "id": "answering-valuation",
      "execution_count": null,
      "outputs": []
    },
    {
      "cell_type": "code",
      "metadata": {
        "id": "derived-economics"
      },
      "source": [
        "x = 'Akua'         # You may assign x to a string value\n",
        "print(x)"
      ],
      "id": "derived-economics",
      "execution_count": null,
      "outputs": []
    },
    {
      "cell_type": "code",
      "metadata": {
        "id": "handed-yugoslavia"
      },
      "source": [
        "print(type(x))"
      ],
      "id": "handed-yugoslavia",
      "execution_count": null,
      "outputs": []
    },
    {
      "cell_type": "code",
      "metadata": {
        "id": "minute-greene"
      },
      "source": [
        "# Casting variables in Python\n",
        "y = str(3)                    # Casting y as a string\n",
        "print(y)"
      ],
      "id": "minute-greene",
      "execution_count": null,
      "outputs": []
    },
    {
      "cell_type": "code",
      "metadata": {
        "id": "grave-roman"
      },
      "source": [
        "print(type(y))"
      ],
      "id": "grave-roman",
      "execution_count": null,
      "outputs": []
    },
    {
      "cell_type": "code",
      "metadata": {
        "id": "coordinate-present"
      },
      "source": [
        "# String concatenation to ensure that the type casting worked.\n",
        "print(y + ' is my favorite number')"
      ],
      "id": "coordinate-present",
      "execution_count": null,
      "outputs": []
    },
    {
      "cell_type": "code",
      "metadata": {
        "id": "willing-convergence"
      },
      "source": [
        "# Demonstrating case-sensitivity in Python \n",
        "a = 'lowerCase'\n",
        "A = 'upperCase'\n",
        "\n",
        "print(a)\n",
        "print(A)"
      ],
      "id": "willing-convergence",
      "execution_count": null,
      "outputs": []
    },
    {
      "cell_type": "code",
      "metadata": {
        "id": "honest-jason"
      },
      "source": [
        "# Unpacking a collection of values into variables\n",
        "names = ['Frank Afum', 'Yaw Daboh', 'Adwoa Mansa', 'Kwabena Mensah']\n",
        "\n",
        "f, y, a, k = names        #Assigning names to initials\n",
        "print(f)\n",
        "print(y)\n",
        "print(a)\n",
        "print(k)"
      ],
      "id": "honest-jason",
      "execution_count": null,
      "outputs": []
    },
    {
      "cell_type": "markdown",
      "metadata": {
        "id": "fluid-article"
      },
      "source": [
        "##### PYTHON DATA STRUCTURES\n",
        "There are two groups of data structures in Python.\\\n",
        "** 1. Built-in Data Structures. E.g List, Dictionary, Tuple, Sets\\\n",
        "** 2. User-defined Data Structures. E.g Arrays, Stack, Queue, Trees, Graphs\n",
        "\n",
        "Read more on each of the Built-in Data Structures via the links below:\n",
        "    \n",
        "1. Lists: https://www.w3schools.com/python/python_lists.asp\n",
        "2. Dictionary: https://realpython.com/python-dicts/ \n",
        "3. Tuple: https://www.datacamp.com/community/tutorials/python-tuples?\n",
        "4. Sets: https://www.programiz.com/python-programming/set"
      ],
      "id": "fluid-article"
    },
    {
      "cell_type": "markdown",
      "metadata": {
        "id": "ahead-layout"
      },
      "source": [
        "##### FUNCTIONS IN PYTHON\n",
        "\n",
        "A python function is a block of code that runs when it is called. It can receive parameters and return data as a result.\\\n",
        "The **def** keyword is used to declare functions in python.\\\n",
        "Functions are called by using the name of the function with parenthesis attached. E.g function_name()\n",
        "\n",
        "NB:\\\n",
        "A **parameter** is the variable listed inside the parentheses in the function definition.\\\n",
        "An **argument** is the value that is sent to the function when it is called."
      ],
      "id": "ahead-layout"
    },
    {
      "cell_type": "code",
      "metadata": {
        "id": "southern-deposit"
      },
      "source": [
        "# A function to sum whole numbers up to a given value. 0, 1, 2, 3, 4 = 0 + 1 + 2 + 3 + 4 = 10\n",
        "# For instance we may decide to sum up all whole numbers up to 50.\n",
        "\n",
        "def sum_whole_numbers(upperLimit):              # We pass a parameter (upperLimit) when declaring the function\n",
        "    sum = (upperLimit / 2) * (upperLimit + 1)\n",
        "    return sum"
      ],
      "id": "southern-deposit",
      "execution_count": null,
      "outputs": []
    },
    {
      "cell_type": "code",
      "metadata": {
        "id": "protected-library"
      },
      "source": [
        "sum_whole_numbers(80)        # We pass an argument (80) when calling the function."
      ],
      "id": "protected-library",
      "execution_count": null,
      "outputs": []
    },
    {
      "cell_type": "code",
      "metadata": {
        "id": "loaded-wholesale"
      },
      "source": [
        "# FUNCTION DECLARATION WITH THE **LAMBDA KEYWORD\n",
        "# Lambda functions are mostly smaller functions that are classified to be anonymous in nature.\n",
        "# This is because these functions do not bear function names\n",
        "# They may take several arguments but can only have one expression\n",
        "\n",
        "# Example of a lambda function to add three values and then assign the result to a variable\n",
        "# lambda arguments: expression\n",
        "add = lambda x, y, z: x + y + z;\n",
        "\n",
        "print(add(67, 46, 59))"
      ],
      "id": "loaded-wholesale",
      "execution_count": null,
      "outputs": []
    },
    {
      "cell_type": "code",
      "metadata": {
        "id": "bottom-keeping"
      },
      "source": [
        ""
      ],
      "id": "bottom-keeping",
      "execution_count": null,
      "outputs": []
    },
    {
      "cell_type": "markdown",
      "metadata": {
        "id": "terminal-sentence"
      },
      "source": [
        "### ASSIGNMENT 1 - 5 marks\n",
        "\n",
        "All codes should be written in Python 3.x\n",
        "\n",
        "**SUBMISSION DEADLINE:** FRIDAY, APRIL 23rd, 2021."
      ],
      "id": "terminal-sentence"
    },
    {
      "cell_type": "markdown",
      "metadata": {
        "id": "desperate-morris"
      },
      "source": [
        "##### QUESTION 1\n",
        "Write a program to display the square root of even numbers between 1 and 50"
      ],
      "id": "desperate-morris"
    },
    {
      "cell_type": "code",
      "metadata": {
        "id": "contained-consultation"
      },
      "source": [
        "result = [ round(x**0.5, 3) for x in range(2, 50, 2) ]\n",
        "print(*result, sep = \", \")"
      ],
      "id": "contained-consultation",
      "execution_count": null,
      "outputs": []
    },
    {
      "cell_type": "markdown",
      "metadata": {
        "id": "animal-position"
      },
      "source": [
        "##### QUESTION 2\n",
        "\n",
        "Write a program to generate an array of 10 random whole numbers with the lower limit and the upper limit coming from a user input.\\\n",
        "This means that a user would define the lower boundary of the array as well as the upper boundary by providing an input for both values.\\\n",
        "And then you generate an array/list of random numbers that falls within the given user input.\n",
        "\n",
        "**Hint:** You may use the random method imported to help you generate the numbers. "
      ],
      "id": "animal-position"
    },
    {
      "cell_type": "code",
      "metadata": {
        "id": "faced-panic"
      },
      "source": [
        "import random\n",
        "\n",
        "lower = int(input(\"Enter lower number:- \"))\n",
        "upper = int(input(\"Enter upper number:- \"))\n",
        "\n",
        "random_nums = [ abs(random.randint(lower, upper)) for _ in range(10) ]\n",
        "#print(*random_nums)"
      ],
      "id": "faced-panic",
      "execution_count": null,
      "outputs": []
    },
    {
      "cell_type": "markdown",
      "metadata": {
        "id": "medium-williams"
      },
      "source": [
        "##### QUESTION 3\n",
        "\n",
        "Write a function that takes the array generated above in Question 2 as an argument and perform both the addition and multiplication operations on the array.\\\n",
        "Print out the results of each operation."
      ],
      "id": "medium-williams"
    },
    {
      "cell_type": "code",
      "metadata": {
        "id": "formed-fashion"
      },
      "source": [
        "from functools import reduce\n",
        "\n",
        "def compute_random_nums(arr):\n",
        "  add = reduce(lambda x, y: x + y, arr)\n",
        "  mul = reduce(lambda x, y: x * y, arr)\n",
        "  return [ add, mul ]\n",
        "\n",
        "[add, mul] = compute_random_nums(random_nums)\n",
        "print(\"Random Numbers Computation\\nSum: {}\\nProduct: {}\".format(add, mul))"
      ],
      "id": "formed-fashion",
      "execution_count": null,
      "outputs": []
    },
    {
      "cell_type": "markdown",
      "metadata": {
        "id": "historical-blake"
      },
      "source": [
        "##### QUESTION 4\n",
        "Let us practise with the popular Collatz sequence.\n",
        "\n",
        "Write a function named collatz() that has one parameter named number. If \n",
        "number is even, then collatz() should print number // 2 and return the resulting value.\\\n",
        "If number is odd, then collatz() should print and return (3 * number + 1).\n",
        "\n",
        "Then write a program that lets the user type in an integer and that keeps \n",
        "calling collatz() on that number until the function returns the value 1. "
      ],
      "id": "historical-blake"
    },
    {
      "cell_type": "code",
      "metadata": {
        "id": "collected-patio"
      },
      "source": [
        "def collatz(number):\n",
        "  rv = number // 2 if number % 2 == 0 else 3 * number + 1\n",
        "  print(\"collatz: \", rv)\n",
        "  return rv\n",
        "\n",
        "initial_number = int(input(\"Enter a number:- \"))\n",
        "\n",
        "number = initial_number\n",
        "while number > 1:\n",
        "  number = collatz(number)"
      ],
      "id": "collected-patio",
      "execution_count": null,
      "outputs": []
    }
  ]
}